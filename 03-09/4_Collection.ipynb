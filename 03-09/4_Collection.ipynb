{
 "cells": [
  {
   "cell_type": "markdown",
   "id": "765af7bb",
   "metadata": {},
   "source": [
    "Tuple"
   ]
  },
  {
   "cell_type": "code",
   "execution_count": 1,
   "id": "7c462914",
   "metadata": {},
   "outputs": [
    {
     "name": "stdout",
     "output_type": "stream",
     "text": [
      "<class 'tuple'>\n"
     ]
    }
   ],
   "source": [
    "a = (1,2,3)\n",
    "print(type(a))"
   ]
  },
  {
   "cell_type": "code",
   "execution_count": 3,
   "id": "9b3d8b58",
   "metadata": {},
   "outputs": [
    {
     "name": "stdout",
     "output_type": "stream",
     "text": [
      "(10, 20, 30)\n"
     ]
    }
   ],
   "source": [
    "b = 10, 20 , 30\n",
    "print(b)"
   ]
  },
  {
   "cell_type": "code",
   "execution_count": 5,
   "id": "d96a037f",
   "metadata": {},
   "outputs": [
    {
     "name": "stdout",
     "output_type": "stream",
     "text": [
      "이순신 김유신 강감찬\n"
     ]
    }
   ],
   "source": [
    "tu = \"이순신\", \"김유신\",\"강감찬\"\n",
    "lee,kim,kang = tu\n",
    "print(lee,kim,kang)"
   ]
  },
  {
   "cell_type": "code",
   "execution_count": 29,
   "id": "5b559b3f",
   "metadata": {},
   "outputs": [
    {
     "name": "stdout",
     "output_type": "stream",
     "text": [
      "{(1, 2): '수치데이터', True: '참', 0: '숫자0'}\n",
      "수치데이터\n",
      "참\n",
      "숫자0\n"
     ]
    }
   ],
   "source": [
    "mykey = 1,2\n",
    "mydic = {mykey : \"수치데이터\",True:\"참\",0: \"숫자0\"}\n",
    "print(mydic)\n",
    "print(mydic[(1,2)])\n",
    "print(mydic[True])\n",
    "print(mydic[0])"
   ]
  },
  {
   "cell_type": "code",
   "execution_count": 38,
   "id": "25cc0035",
   "metadata": {},
   "outputs": [
    {
     "name": "stdout",
     "output_type": "stream",
     "text": [
      "time.struct_time(tm_year=2023, tm_mon=3, tm_mday=9, tm_hour=10, tm_min=47, tm_sec=17, tm_wday=3, tm_yday=68, tm_isdst=0)\n",
      "(10, 47, 3, 9, 3)\n",
      "3\n",
      "9\n",
      "목\n"
     ]
    }
   ],
   "source": [
    "import time\n",
    "\n",
    "def gettime() :\n",
    "    now = time.localtime()\n",
    "    print(now)\n",
    "    return now.tm_hour,now.tm_min,now.tm_mon,now.tm_mday,now.tm_wday\n",
    "#함수의 호출\n",
    "result = gettime()\n",
    "print(result)\n",
    "#월 일 요일\n",
    "w = (\"월\",\"화\",\"수\",\"목\",\"금\",\"토\",\"일\")\n",
    "print(result[2])\n",
    "print(result[3])\n",
    "print(w[result[4]])"
   ]
  },
  {
   "cell_type": "code",
   "execution_count": 40,
   "id": "ddab88c1",
   "metadata": {},
   "outputs": [
    {
     "name": "stdout",
     "output_type": "stream",
     "text": [
      "{'아메리카노', '카라멜', '아이스라떼', '카푸치노', '바닐라 라떼'}\n",
      "{'orange', 'banna', 'apple', 'pineappl', 'pear'}\n",
      "<class 'set'>\n",
      "{'아메리카노', '카푸치노', '바닐라 라떼', '카라멜'}\n"
     ]
    }
   ],
   "source": [
    "coffee = set(['아메리카노','카푸치노','카라멜','바닐라 라떼'])\n",
    "print(coffe)\n",
    "\n",
    "fruit = {'apple','pear','banna','orange','pineappl'}\n",
    "print(fruit)\n",
    "print(type(fruit))\n",
    "\n",
    "coffe.add('아이스라떼')\n",
    "coffe.add('아이스라떼')#동일한 데이터있으므로 삽입x\n",
    "\n",
    "print(coffee)"
   ]
  },
  {
   "cell_type": "markdown",
   "id": "976d67d1",
   "metadata": {},
   "source": [
    "# 컬렉션 관리 함수\n",
    "  zip()\n",
    "  enumerate()"
   ]
  },
  {
   "cell_type": "code",
   "execution_count": 45,
   "id": "dbf53899",
   "metadata": {},
   "outputs": [
    {
     "name": "stdout",
     "output_type": "stream",
     "text": [
      "1 요소: 월\n",
      "2 요소: 화\n",
      "3 요소: 수\n",
      "4 요소: 목\n",
      "5 요소: 금\n"
     ]
    }
   ],
   "source": [
    "days = ['월','화','수','목','금']\n",
    "list(enumerate(days,1))\n",
    "\n",
    "for index,item in enumerate(days,1):\n",
    "    print(index,'요소:',item)"
   ]
  },
  {
   "cell_type": "code",
   "execution_count": 51,
   "id": "837439e2",
   "metadata": {},
   "outputs": [
    {
     "name": "stdout",
     "output_type": "stream",
     "text": [
      "월에는 순댓국\n",
      "화에는 갈비탕\n",
      "수에는 칼국수\n",
      "목에는 삼겹살\n"
     ]
    }
   ],
   "source": [
    "days = ['월','화','수','목','금','토','일']\n",
    "food = ['순댓국','갈비탕','칼국수','삼겹살']\n",
    "\n",
    "list(zip(days,food))\n",
    "\n",
    "for yoil, lunch in zip(days,food) :\n",
    "    print(yoil, '에는 ', lunch, sep = \"\")"
   ]
  },
  {
   "cell_type": "code",
   "execution_count": 54,
   "id": "47db593a",
   "metadata": {},
   "outputs": [
    {
     "name": "stdout",
     "output_type": "stream",
     "text": [
      "칼국수\n"
     ]
    }
   ],
   "source": [
    "days = ['월','화','수','목','금','토','일']\n",
    "food = ['순댓국','갈비탕','칼국수','삼겹살']\n",
    "\n",
    "menu=dict(list(zip(days,food)))\n",
    "print(menu['수'])\n"
   ]
  },
  {
   "cell_type": "code",
   "execution_count": 61,
   "id": "6882e002",
   "metadata": {},
   "outputs": [
    {
     "name": "stdout",
     "output_type": "stream",
     "text": [
      "5\n",
      "2\n",
      "3\n",
      "[1, 2, 3.5, '문자열']\n"
     ]
    }
   ],
   "source": [
    "x= [[1,2,3],[4,5,6]]\n",
    "print(x[1][1]) #파이썬에서는 대괄호 2개를 사용!\n",
    "print(len(x))\n",
    "print(len(x[0]))\n",
    "\n",
    "y = [1,2,3.5,'문자열']\n",
    "print(y)"
   ]
  },
  {
   "cell_type": "code",
   "execution_count": 99,
   "id": "372b83c7",
   "metadata": {},
   "outputs": [
    {
     "name": "stdout",
     "output_type": "stream",
     "text": [
      "[[21, 32, 43], [54, 65, 76]]\n"
     ]
    }
   ],
   "source": [
    "x = [[1,2,3],[4,5,6]]\n",
    "y = [[11,12,13],[14,15,16]]\n",
    "z = []\n",
    "#sum_test = zip(x,y)\n",
    "# for x,y in sum_test : \n",
    "#     a = x[0]*10 + y[0]\n",
    "#     b = x[1]*10 + y[1]\n",
    "#     c = x[2]*10 + y[2]\n",
    "#     z = [a,b,c]\n",
    "#     print(z)\n",
    "\n",
    "# for i in range(len(x)):\n",
    "#     row = []\n",
    "#     for j in range(len(x[i])):\n",
    "#         row.append(x[i][j] * 10 + y[i][j])\n",
    "#     z.append(row)\n",
    "for a,b in (zip(x,y)):\n",
    "    row = []\n",
    "    for c,d in zip(a,b):\n",
    "        row.append(c* 10 + d)\n",
    "    z.append(row)\n",
    "\n",
    "\n",
    "print(z)\n",
    "\n"
   ]
  },
  {
   "cell_type": "code",
   "execution_count": 103,
   "id": "253f3b65",
   "metadata": {},
   "outputs": [
    {
     "name": "stdout",
     "output_type": "stream",
     "text": [
      "[[21, 32, 43], [54, 65, 76]]\n"
     ]
    }
   ],
   "source": [
    "x = [[1,2,3],[4,5,6]]\n",
    "y = [[11,12,13],[14,15,16]]\n",
    "z = []\n",
    "z =[[c*10 + d for c,d in zip(a,b)] for a,b in (zip(x,y))]\n",
    "#temp =[(a,b)for a,b in (zip(x,y))]\n",
    "print(z)"
   ]
  },
  {
   "cell_type": "code",
   "execution_count": 110,
   "id": "2548bdb5",
   "metadata": {},
   "outputs": [
    {
     "name": "stdout",
     "output_type": "stream",
     "text": [
      "[49, 52, 55]\n"
     ]
    }
   ],
   "source": [
    "k = [1,2,3,4]\n",
    "l = [10,11,12,13]\n",
    "m = [22,23,24]\n",
    "z = [a+b+c+d for a,b,c in(zip(k,l,m))]\n",
    "print(z)"
   ]
  },
  {
   "cell_type": "code",
   "execution_count": null,
   "id": "214ff19a",
   "metadata": {},
   "outputs": [],
   "source": []
  }
 ],
 "metadata": {
  "kernelspec": {
   "display_name": "Python 3 (ipykernel)",
   "language": "python",
   "name": "python3"
  },
  "language_info": {
   "codemirror_mode": {
    "name": "ipython",
    "version": 3
   },
   "file_extension": ".py",
   "mimetype": "text/x-python",
   "name": "python",
   "nbconvert_exporter": "python",
   "pygments_lexer": "ipython3",
   "version": "3.9.13"
  }
 },
 "nbformat": 4,
 "nbformat_minor": 5
}
