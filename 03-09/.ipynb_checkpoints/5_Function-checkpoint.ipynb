{
 "cells": [
  {
   "cell_type": "markdown",
   "id": "8a1ad76e",
   "metadata": {},
   "source": [
    "# 함수 (function)\n",
    "- 함수(function)은 프로그램상에서 자주 사용되는 코드를 하나의 기능으로 묶어 사용\n",
    "- 종류\n",
    "    * 내장함수(bulit_in)\n",
    "    * 메소드 : 특정 클래스 내에 포함된 함수\n",
    "    * 사용자정의 함수 : 개발자가 만든 함수\n",
    "- 정의(define) / 호출(call)"
   ]
  },
  {
   "cell_type": "code",
   "execution_count": 7,
   "id": "e7196cec",
   "metadata": {},
   "outputs": [
    {
     "name": "stdout",
     "output_type": "stream",
     "text": [
      "34 253\n",
      "34\n"
     ]
    }
   ],
   "source": [
    "def calc(a,b) : #변수명(argument)\n",
    "    #pass   #아직 내용물을 정하지 않았을때 \n",
    "    #print(a + b)\n",
    "    result = a + b\n",
    "    return result #return 이 없을경우 호출을 해도 None값으로 반환\n",
    "\n",
    "result = calc(11,23) #변수명(전달인수(인자))\n",
    "print(result)\n",
    "\n",
    "def calc2(a,b):\n",
    "    return a+b,a*b\n",
    "r1,r2 = calc2(11,23)\n",
    "print(r1,r2)"
   ]
  },
  {
   "cell_type": "code",
   "execution_count": 8,
   "id": "243627bf",
   "metadata": {},
   "outputs": [
    {
     "data": {
      "text/plain": [
       "function"
      ]
     },
     "execution_count": 8,
     "metadata": {},
     "output_type": "execute_result"
    }
   ],
   "source": [
    "type(calc2)"
   ]
  },
  {
   "cell_type": "code",
   "execution_count": 9,
   "id": "2efdf07b",
   "metadata": {},
   "outputs": [
    {
     "data": {
      "text/plain": [
       "<function __main__.calc(a, b)>"
      ]
     },
     "execution_count": 9,
     "metadata": {},
     "output_type": "execute_result"
    }
   ],
   "source": [
    "calc"
   ]
  },
  {
   "cell_type": "code",
   "execution_count": 10,
   "id": "99457758",
   "metadata": {},
   "outputs": [],
   "source": [
    "def myfunc() :\n",
    "    pass"
   ]
  },
  {
   "cell_type": "code",
   "execution_count": 16,
   "id": "b67dae11",
   "metadata": {},
   "outputs": [
    {
     "name": "stdout",
     "output_type": "stream",
     "text": [
      "(1, 2, 3) 3\n",
      "<class 'tuple'>\n",
      "() 0\n",
      "<class 'tuple'>\n"
     ]
    }
   ],
   "source": [
    "# 가변인수\n",
    "def func(*a) : \n",
    "    print(a,len(a))\n",
    "    print(type(a))\n",
    "func(1,2,3)\n",
    "func()"
   ]
  },
  {
   "cell_type": "code",
   "execution_count": 22,
   "id": "49b7f302",
   "metadata": {},
   "outputs": [
    {
     "name": "stdout",
     "output_type": "stream",
     "text": [
      "2\n",
      "14\n"
     ]
    }
   ],
   "source": [
    "def func(*a) : \n",
    "    total = 0\n",
    "    for tmp in a :\n",
    "        total += tmp;\n",
    "    return total\n",
    "print(func(2))\n",
    "print(func(2,3,4,5))\n",
    "#print(func([2,3,4,5])) : 오류 (전달은 받을수 있으나 연산은 불가능)"
   ]
  },
  {
   "cell_type": "code",
   "execution_count": null,
   "id": "9b96eea1",
   "metadata": {},
   "outputs": [],
   "source": [
    "#클래스는 대문자, 나머짖 소문자\n"
   ]
  },
  {
   "cell_type": "code",
   "execution_count": 34,
   "id": "368bfef1",
   "metadata": {},
   "outputs": [
    {
     "name": "stdout",
     "output_type": "stream",
     "text": [
      "25\n",
      "45\n",
      "35\n",
      "45\n"
     ]
    }
   ],
   "source": [
    "# 기본값이 지정된 함수\n",
    "def calcstep(start=1,stop=10,step=1):\n",
    "    total = 0\n",
    "    for i in range (start,stop,step) :\n",
    "        total += i\n",
    "    return total\n",
    "print(calcstep(1,10,2))\n",
    "print(calcstep(1,10))\n",
    "print(calcstep(5)) #start ==>5\n",
    "print(calcstep())\n",
    "\n",
    "\n",
    "# calcstep(1,10)"
   ]
  },
  {
   "cell_type": "code",
   "execution_count": 2,
   "id": "40156125",
   "metadata": {},
   "outputs": [
    {
     "name": "stdout",
     "output_type": "stream",
     "text": [
      "25\n",
      "25\n"
     ]
    },
    {
     "data": {
      "text/plain": [
       "1180"
      ]
     },
     "execution_count": 2,
     "metadata": {},
     "output_type": "execute_result"
    }
   ],
   "source": [
    "# 기본값이 지정된 함수\n",
    "def calcstep(start,stop=20,step=2):\n",
    "    total = 0\n",
    "    for i in range (start,stop,step) :\n",
    "        total += i\n",
    "    return total\n",
    "print(calcstep(1,10,2))\n",
    "print(calcstep(1,10))\n",
    "#print(calcstep(5)) #start ==>5\n",
    "#print(calcstep())\n",
    "calcstep(step =1, stop = 50,start = 10)\n"
   ]
  },
  {
   "cell_type": "code",
   "execution_count": 49,
   "id": "36635b9a",
   "metadata": {},
   "outputs": [
    {
     "name": "stdout",
     "output_type": "stream",
     "text": [
      "{'step': 1, 'stop': 50, 'start': 10}\n",
      "<class 'dict'>\n",
      "{'a': 1, 'b': 2}\n"
     ]
    }
   ],
   "source": [
    "#a[1] #리스트\n",
    "#b['name'] #딕셔너리\n",
    "# 기본값이 지정된 함수\n",
    "def calcstep(**args):\n",
    "    print(args)\n",
    "    print(type(args))\n",
    "calcstep(step=1,stop=50,start=10) #dictionary로 받는다(key,value)형태로 보내야한다\n",
    "# calcstep(1,50,10) tuple로 받는다\n",
    "\n",
    "def calcstep2(x) :\n",
    "    print(x)\n",
    "    \n",
    "calcstep2({'a':1,'b':2})"
   ]
  },
  {
   "cell_type": "code",
   "execution_count": 1,
   "id": "6220b185",
   "metadata": {},
   "outputs": [
    {
     "name": "stdout",
     "output_type": "stream",
     "text": [
      "주민등록번호980911-3559216\n"
     ]
    },
    {
     "data": {
      "text/plain": [
       "'주민등록번호가 일치하지 않습니다'"
      ]
     },
     "execution_count": 1,
     "metadata": {},
     "output_type": "execute_result"
    }
   ],
   "source": [
    "#false 리턴 : 잘못된 주민번호\n",
    "#true 리턴 : 올바른 주민번호\n",
    "#2000년생 1월 1일 생 남자 22세 입니다\n",
    "#주민번호 가운데 -\n",
    "# 주민번호 길이 14\n",
    "# - 앞,뒤에는 숫자만 있어야 한다.\n",
    "# 성별은 1,2,3,4 만 허용한다\n",
    "# 주민번호를 공식에 넣어서 마지막 digit과 같아야 올바른 주민번호\n",
    "   \n",
    "    \n",
    "    # 함수 실행하면 14 자리인지 숫자가 맞는지 \n",
    "    \n",
    "def jumin_validation(regiNum) :\n",
    "    checkNum = regiNum.split('-')\n",
    "    if len(regiNum)!=14  or regiNum[6] != '-' or not checkNum[0].isnumeric() or not checkNum[1].isnumeric() :\n",
    "        print(\"주민등록번호가 14자리숫자가 아니거나 '-'를 사용하지 않았습니다\")\n",
    "        return False\n",
    "    \n",
    "    firstNum = regiNum[0:6]\n",
    "    secondNum = regiNum[7:14]\n",
    "    \n",
    "    gender = secondNum[0]\n",
    "    if not(gender== '1' or gender == '2' or gender == '3' or gender == '4') :\n",
    "        print(\"뒷자리 첫번째번호가 '1,2,3,4'가 아닙니다\")\n",
    "        return False\n",
    "    if int(gender)%2 == 0:\n",
    "        gender = \"여성\"\n",
    "    else : gender = \"남성\"\n",
    "    \n",
    "    year = firstNum[0:2]\n",
    "    month = firstNum[2:4]\n",
    "    day = firstNum[4:6]\n",
    "    if int(secondNum[0]) ==3 or int(secondNum[0]) == 4: # 1,2,3,4 만 받아야됌\n",
    "        fullyear = \"20\" #year = \"19\" + year\n",
    "    else : fullyear=\"19\"\n",
    "    age = 2024 - int(fullyear+year)\n",
    "    \n",
    "    result1 = int(firstNum[0])*2 + int(firstNum[1])*3 + int(firstNum[2])*4 + int(firstNum[3])*5 + int(firstNum[4])*6 + \\\n",
    "            +int(firstNum[5])*7 + int(secondNum[0])*8 + int(secondNum[1])*9 + int(secondNum[2])*2 + int(secondNum[3])*3 + \\\n",
    "            +int(secondNum[4])*4 + int(secondNum[5])*5\n",
    "    result2 = 11 - (result1 % 11)\n",
    "    result3 = str(result2)\n",
    "\n",
    "    if secondNum[6] == result3 :\n",
    "        flag = True\n",
    "    else : \n",
    "        flag = False\n",
    "\n",
    "    if flag :\n",
    "        print(fullyear+year+\"년\" + month+\"월\"+day + '일 '+ gender + \"입니다 \" +str(age)+\"살입니다\")\n",
    "        return(\"주민등록번호가 일치합니다\")\n",
    "    else : return(\"주민등록번호가 일치하지 않습니다\")\n",
    "\n",
    "regiNum = input(\"주민등록번호\")\n",
    "jumin_validation(regiNum)"
   ]
  },
  {
   "cell_type": "markdown",
   "id": "289d3be1",
   "metadata": {},
   "source": [
    "# 함수를 이용한 계산기\n",
    "    이항사칙연산식을 매개변수로 받아 연산의 결과를 출력하는 함수를 정의하시오\n",
    "    * 함수 형식: calculator(exp) find() 기준으로 split\n",
    "    * exp : 사용자로부터 입력받은 문자열 형태의 연산식(문자열)\n",
    "    \n",
    "    [실행예시]\n",
    "    계산식을 입력하세요 : 10 + 20\n",
    "    10 + 20 = 30.00\n",
    "    계산식을 입력하세요 : 10a20\n",
    "    연산자 오류"
   ]
  },
  {
   "cell_type": "code",
   "execution_count": 43,
   "id": "6f31386f",
   "metadata": {},
   "outputs": [
    {
     "name": "stdout",
     "output_type": "stream",
     "text": [
      "계산식을 입력하시오 :12.2+2\n",
      "수식오류\n"
     ]
    }
   ],
   "source": [
    "def calculator(data):\n",
    "    \n",
    "    oper = ['+','-','*','/']\n",
    "    flag = False # 전달 받은 data 안에 허용하는 연산자가 있으면 True\n",
    "    myop = None\n",
    "    for op in oper:\n",
    "        if op in data:\n",
    "            flag = True\n",
    "            myop = op\n",
    "            break\n",
    "    if not flag : return flag\n",
    "    \n",
    "    value1 = data.split(myop)[0]\n",
    "    value2 = data.split(myop)[1]\n",
    "    if not (value1.isnumeric() and value2.isnumeric()): # . 을 이용한 실수\n",
    "        return False\n",
    "    \n",
    "    if len(value1) <= 0 or len(value2) <= 0 :\n",
    "        return False\n",
    "    \n",
    "    value1 = float(value1)\n",
    "    value2 = float(value2)\n",
    "    \n",
    "    result = value1 + value2 if myop == '+' else \\\n",
    "             value1 - value2 if myop == '-' else \\\n",
    "             value1 * value2 if myop == '*' else \\\n",
    "             value1 / value2   \n",
    "    return '%s = %.2f' % (data,result)\n",
    "\n",
    "result = calculator(input('계산식을 입력하시오 :'))\n",
    "if result : print(result)\n",
    "else: print('수식오류')"
   ]
  },
  {
   "cell_type": "code",
   "execution_count": null,
   "id": "13ed0d4e",
   "metadata": {},
   "outputs": [],
   "source": [
    "if exp.find('+') :\n",
    "    continue\n",
    "if exp.find('-') :\n",
    "        continue\n",
    "    if exp.find('*') :\n",
    "        continue\n",
    "    if exp.find('/') :\n",
    "        continue"
   ]
  },
  {
   "cell_type": "code",
   "execution_count": null,
   "id": "e6e61d51",
   "metadata": {},
   "outputs": [],
   "source": []
  },
  {
   "cell_type": "code",
   "execution_count": null,
   "id": "035589bb",
   "metadata": {},
   "outputs": [],
   "source": []
  },
  {
   "cell_type": "code",
   "execution_count": null,
   "id": "6ea0a5a4",
   "metadata": {},
   "outputs": [],
   "source": []
  },
  {
   "cell_type": "code",
   "execution_count": null,
   "id": "0e95330b",
   "metadata": {},
   "outputs": [],
   "source": []
  },
  {
   "cell_type": "code",
   "execution_count": null,
   "id": "3c448453",
   "metadata": {},
   "outputs": [],
   "source": []
  },
  {
   "cell_type": "code",
   "execution_count": null,
   "id": "ecfa3942",
   "metadata": {},
   "outputs": [],
   "source": []
  },
  {
   "cell_type": "code",
   "execution_count": null,
   "id": "7a13c5a4",
   "metadata": {},
   "outputs": [],
   "source": []
  }
 ],
 "metadata": {
  "kernelspec": {
   "display_name": "Python 3 (ipykernel)",
   "language": "python",
   "name": "python3"
  },
  "language_info": {
   "codemirror_mode": {
    "name": "ipython",
    "version": 3
   },
   "file_extension": ".py",
   "mimetype": "text/x-python",
   "name": "python",
   "nbconvert_exporter": "python",
   "pygments_lexer": "ipython3",
   "version": "3.9.13"
  }
 },
 "nbformat": 4,
 "nbformat_minor": 5
}
