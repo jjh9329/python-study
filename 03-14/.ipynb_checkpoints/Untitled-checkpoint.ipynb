{
 "cells": [
  {
   "cell_type": "code",
   "execution_count": null,
   "id": "ef18ffb6",
   "metadata": {},
   "outputs": [],
   "source": [
    "# as 키워드르 이용해 임포트한 모듈에 별칭 붙이기\n",
    "import pandas as pd\n",
    "import numpy as np\n"
   ]
  },
  {
   "cell_type": "code",
   "execution_count": null,
   "id": "2e385fe6",
   "metadata": {},
   "outputs": [],
   "source": [
    "import math"
   ]
  },
  {
   "cell_type": "code",
   "execution_count": null,
   "id": "a1148cff",
   "metadata": {},
   "outputs": [],
   "source": [
    "from math import sqrt"
   ]
  },
  {
   "cell_type": "code",
   "execution_count": 6,
   "id": "a7169642",
   "metadata": {},
   "outputs": [
    {
     "name": "stdout",
     "output_type": "stream",
     "text": [
      "정수 입력3\n"
     ]
    },
    {
     "data": {
      "text/plain": [
       "28.274333882308138"
      ]
     },
     "execution_count": 6,
     "metadata": {},
     "output_type": "execute_result"
    }
   ],
   "source": [
    "import math\n",
    "r=0\n",
    "r= int(input(\"정수 입력\"))\n",
    "r**2*math.pi\n"
   ]
  },
  {
   "cell_type": "code",
   "execution_count": 4,
   "id": "780e1431",
   "metadata": {},
   "outputs": [
    {
     "name": "stdout",
     "output_type": "stream",
     "text": [
      "Tue Mar 14 13:13:47 2023\n",
      "2023\n"
     ]
    }
   ],
   "source": [
    "import time\n",
    "\n",
    "print(time.ctime(time.time()))\n",
    "print(time.localtime(time.time()).tm_year)"
   ]
  },
  {
   "cell_type": "code",
   "execution_count": 5,
   "id": "9ba3e4dc",
   "metadata": {},
   "outputs": [
    {
     "name": "stdout",
     "output_type": "stream",
     "text": [
      "2023-03-14 13:14:09.438746\n"
     ]
    }
   ],
   "source": [
    "import datetime\n",
    "\n",
    "current = datetime.datetime.now()\n",
    "print(current)"
   ]
  },
  {
   "cell_type": "code",
   "execution_count": 7,
   "id": "bc3ed66c",
   "metadata": {},
   "outputs": [
    {
     "name": "stdout",
     "output_type": "stream",
     "text": [
      "1~1억까지의 합계 100000000\n",
      "실행시간 24.28363060951233\n"
     ]
    }
   ],
   "source": [
    "import time\n",
    "\n",
    "start = time.time()\n",
    "total = 0\n",
    "for i in range(1,100000001):\n",
    "    total +=1\n",
    "    \n",
    "print(\"1~1억까지의 합계\",total)\n",
    "\n",
    "end = time.time()\n",
    "print('실행시간',(end-start))"
   ]
  },
  {
   "cell_type": "code",
   "execution_count": 10,
   "id": "fe604615",
   "metadata": {},
   "outputs": [
    {
     "name": "stdout",
     "output_type": "stream",
     "text": [
      "이문장은\n",
      "1c초\n",
      "1촉가 다시\n"
     ]
    }
   ],
   "source": [
    "import time\n",
    "\n",
    "print(\"이문장은\")\n",
    "time.sleep(1)\n",
    "print(\"1c초\")\n",
    "time.sleep(1)\n",
    "print(\"1촉가 다시\")"
   ]
  },
  {
   "cell_type": "code",
   "execution_count": 11,
   "id": "4cadeaee",
   "metadata": {},
   "outputs": [
    {
     "name": "stdout",
     "output_type": "stream",
     "text": [
      "     March 2023\n",
      "Mo Tu We Th Fr Sa Su\n",
      "       1  2  3  4  5\n",
      " 6  7  8  9 10 11 12\n",
      "13 14 15 16 17 18 19\n",
      "20 21 22 23 24 25 26\n",
      "27 28 29 30 31\n",
      "\n"
     ]
    }
   ],
   "source": [
    "import calendar\n",
    "\n",
    "print(calendar.month(2023,3))"
   ]
  },
  {
   "cell_type": "code",
   "execution_count": 17,
   "id": "8e488fd1",
   "metadata": {},
   "outputs": [
    {
     "name": "stdout",
     "output_type": "stream",
     "text": [
      "3일절은 토 요일에 일어났습니다\n",
      "한국전쟁은 일 요일에 일어났습니다\n",
      "내생일 금\n"
     ]
    }
   ],
   "source": [
    "import calendar\n",
    "yoil = ['월','화','수','목','금','토','일']\n",
    "day= calendar.weekday(1919,3,1)\n",
    "print('3일절은',yoil[day],'요일에 일어났습니다')\n",
    "war = calendar.weekday(1950,6,25)\n",
    "print('한국전쟁은',yoil[war],'요일에 일어났습니다')\n",
    "birthday = calendar.weekday(1998,9,11)\n",
    "print(\"내생일\",yoil[birthday])"
   ]
  },
  {
   "cell_type": "code",
   "execution_count": 23,
   "id": "c1e649b4",
   "metadata": {},
   "outputs": [
    {
     "name": "stdout",
     "output_type": "stream",
     "text": [
      "1 회 25\n",
      "2 회 50\n",
      "3 회 19\n",
      "4 회 30\n",
      "5 회 22\n"
     ]
    }
   ],
   "source": [
    "import random\n",
    "\n",
    "#random.seed(0) uniform실수\n",
    "for i in range(5):\n",
    "    print((i + 1),'회',random.randint(0,50))"
   ]
  },
  {
   "cell_type": "code",
   "execution_count": 36,
   "id": "b63cdd44",
   "metadata": {},
   "outputs": [
    {
     "name": "stdout",
     "output_type": "stream",
     "text": [
      "78\n",
      "정답은?23\n",
      "0\n",
      "업\n",
      "정답은?34\n",
      "2\n",
      "업\n",
      "정답은?45\n",
      "4\n",
      "업\n",
      "정답은?56\n",
      "6\n",
      "업\n",
      "정답은?67\n",
      "8\n",
      "업\n",
      "기회가 끝\n",
      "78\n"
     ]
    }
   ],
   "source": [
    "#Up-Down\n",
    "\n",
    "hidden = random.randint(1,100)\n",
    "print(hidden)\n",
    "for i in range(5):\n",
    "    answer = int(input('정답은?'))\n",
    "    i+=i\n",
    "    print(i)\n",
    "    if hidden == answer :\n",
    "        print(\"성공\")\n",
    "        break\n",
    "    elif hidden > answer :\n",
    "        print(\"업\")\n",
    "    else : print(\"다운\")\n",
    "    \n",
    "print(\"기회가 끝\")\n",
    "print(hidden)"
   ]
  },
  {
   "cell_type": "code",
   "execution_count": 69,
   "id": "86106500",
   "metadata": {},
   "outputs": [
    {
     "ename": "AttributeError",
     "evalue": "'tuple' object has no attribute 'add'",
     "output_type": "error",
     "traceback": [
      "\u001b[1;31m---------------------------------------------------------------------------\u001b[0m",
      "\u001b[1;31mAttributeError\u001b[0m                            Traceback (most recent call last)",
      "\u001b[1;32m~\\AppData\\Local\\Temp\\ipykernel_12056\\1508825622.py\u001b[0m in \u001b[0;36m<module>\u001b[1;34m\u001b[0m\n\u001b[0;32m      5\u001b[0m \u001b[1;32mwhile\u001b[0m \u001b[1;32mTrue\u001b[0m\u001b[1;33m:\u001b[0m\u001b[1;33m\u001b[0m\u001b[1;33m\u001b[0m\u001b[0m\n\u001b[0;32m      6\u001b[0m     \u001b[0mtemp\u001b[0m \u001b[1;33m=\u001b[0m \u001b[0mrandom\u001b[0m\u001b[1;33m.\u001b[0m\u001b[0mrandint\u001b[0m\u001b[1;33m(\u001b[0m\u001b[1;36m1\u001b[0m\u001b[1;33m,\u001b[0m\u001b[1;36m45\u001b[0m\u001b[1;33m)\u001b[0m\u001b[1;33m\u001b[0m\u001b[1;33m\u001b[0m\u001b[0m\n\u001b[1;32m----> 7\u001b[1;33m     \u001b[0mdupl_check\u001b[0m\u001b[1;33m.\u001b[0m\u001b[0madd\u001b[0m\u001b[1;33m(\u001b[0m\u001b[0mtemp\u001b[0m\u001b[1;33m)\u001b[0m\u001b[1;33m\u001b[0m\u001b[1;33m\u001b[0m\u001b[0m\n\u001b[0m\u001b[0;32m      8\u001b[0m     \u001b[0mlotto\u001b[0m\u001b[1;33m.\u001b[0m\u001b[0mappend\u001b[0m\u001b[1;33m(\u001b[0m\u001b[0mtemp\u001b[0m\u001b[1;33m)\u001b[0m\u001b[1;33m\u001b[0m\u001b[1;33m\u001b[0m\u001b[0m\n\u001b[0;32m      9\u001b[0m     \u001b[0mset\u001b[0m\u001b[1;33m(\u001b[0m\u001b[0mlotto\u001b[0m\u001b[1;33m)\u001b[0m\u001b[1;33m\u001b[0m\u001b[1;33m\u001b[0m\u001b[0m\n",
      "\u001b[1;31mAttributeError\u001b[0m: 'tuple' object has no attribute 'add'"
     ]
    }
   ],
   "source": [
    "import random\n",
    "dupl_check= ()\n",
    "lotto =[]\n",
    "count = 0\n",
    "while True:\n",
    "    temp = random.randint(1,45)\n",
    "    dupl_check.add(temp)\n",
    "    lotto.append(temp)\n",
    "    set(lotto)\n",
    "    if len(dupl_check) == (lotto) :\n",
    "        count +=1\n",
    "        if(count>6):break\n",
    "        continue\n",
    "    else :\n",
    "        lotto.pop()\n",
    "print(lotto)    \n",
    "print(dupl_check)"
   ]
  },
  {
   "cell_type": "code",
   "execution_count": 60,
   "id": "2c350b65",
   "metadata": {},
   "outputs": [
    {
     "name": "stdout",
     "output_type": "stream",
     "text": [
      "1 번쨰공 2\n",
      "2 번쨰공 35\n",
      "3 번쨰공 28\n",
      "4 번쨰공 40\n",
      "5 번쨰공 7\n",
      "6 번쨰공 17\n",
      "7 번쨰공 5\n",
      "현로또:  [2, 35, 28, 40, 7, 17, 5]\n",
      "중복제거 로또:  [2, 35, 5, 7, 40, 17, 28]\n",
      "추첨완료\n"
     ]
    }
   ],
   "source": [
    "import random\n",
    "# 중복되지 않은 난사 1~46까지의 수를 발생시키는 프로그램을 작성하시오\n",
    "# set() => 중복 여부 확인용\n",
    "# list() => 로또 데이터를 담는 용으로 사용\n",
    "\n",
    "#while Ture를 이용해서 난수 1~46 사이의 정수 발생\n",
    "#set에 넣는다.\n",
    "lotolist = []\n",
    "confirm = []\n",
    "i= 1\n",
    "\n",
    "while True :\n",
    "    hidden = random.randint(1,46)\n",
    "    print(i,\"번쨰공\",hidden)\n",
    "    lotolist.append(hidden)\n",
    "    \n",
    "    if len(lotolist) > 6 :\n",
    "        confirm = list(set(lotolist))\n",
    "        print(\"현로또: \",lotolist)\n",
    "        print(\"중복제거 로또: \",confirm)\n",
    "        if len(confirm) > 6 :\n",
    "            print(\"추첨완료\")\n",
    "            break\n",
    "    i += 1"
   ]
  },
  {
   "cell_type": "code",
   "execution_count": 65,
   "id": "49f2c055",
   "metadata": {},
   "outputs": [
    {
     "name": "stdout",
     "output_type": "stream",
     "text": [
      "버전: 3.9.13 (main, Aug 25 2022, 23:51:50) [MSC v.1916 64 bit (AMD64)]\n",
      "플랫폼: win32\n",
      "sys.getwindowsversion(major=10, minor=0, build=22621, platform=2, service_pack='')\n",
      "바이트 순서: little\n"
     ]
    }
   ],
   "source": [
    "import sys\n",
    "print(\"버전:\", sys.version)\n",
    "print(\"플랫폼:\", sys.platform)\n",
    "if(sys.platform == 'win32'):\n",
    "    print(sys.getwindowsversion())\n",
    "print(\"바이트 순서:\",sys.byteorder)"
   ]
  },
  {
   "cell_type": "code",
   "execution_count": 70,
   "id": "9359dcb5",
   "metadata": {},
   "outputs": [
    {
     "name": "stdout",
     "output_type": "stream",
     "text": [
      "9.433981132056603\n"
     ]
    }
   ],
   "source": [
    "import math\n",
    "\n",
    "base = 8\n",
    "height = 5\n",
    "side = math.sqrt(base**2 + height **2)\n",
    "print(side)"
   ]
  },
  {
   "cell_type": "code",
   "execution_count": 71,
   "id": "80b77358",
   "metadata": {},
   "outputs": [
    {
     "name": "stdout",
     "output_type": "stream",
     "text": [
      "양력 생일(YYYY-MM-DD)을 입력하세요. 1998-09-11\n",
      "1998-09-11부터 2023-03-14까지\n",
      "8950일\n"
     ]
    }
   ],
   "source": [
    "from datetime import datetime, date\n",
    "\n",
    "birth = str(input('양력 생일(YYYY-MM-DD)을 입력하세요. '))\n",
    "birth = datetime.strptime(birth, '%Y-%m-%d').date()\n",
    "today = date.today()\n",
    "print(f\"{birth.strftime('%Y-%m-%d')}부터 {today.strftime('%Y-%m-%d')}까지\")\n",
    "print(f\"{(today - birth).days}일\")"
   ]
  },
  {
   "cell_type": "code",
   "execution_count": 93,
   "id": "7bbbea82",
   "metadata": {},
   "outputs": [
    {
     "name": "stdout",
     "output_type": "stream",
     "text": [
      "[[1, 4], [2, 5], [3, 6]]\n"
     ]
    }
   ],
   "source": [
    "temp = 5\n",
    "a= [1,2,3]\n",
    "b= [4,5,6]\n",
    "\n",
    "result = [[element for element in c ] for c in zip(a,b)]\n",
    "print(result)"
   ]
  },
  {
   "cell_type": "code",
   "execution_count": 94,
   "id": "d03e5df1",
   "metadata": {},
   "outputs": [
    {
     "data": {
      "text/plain": [
       "array([[1, 4],\n",
       "       [2, 5],\n",
       "       [3, 6]])"
      ]
     },
     "execution_count": 94,
     "metadata": {},
     "output_type": "execute_result"
    }
   ],
   "source": [
    "a= [[1,2,3],[4,5,6]]\n",
    "import numpy as np\n",
    "\n",
    "b= np.array(a)\n",
    "b.T"
   ]
  },
  {
   "cell_type": "code",
   "execution_count": 97,
   "id": "93b38c2e",
   "metadata": {},
   "outputs": [
    {
     "ename": "TypeError",
     "evalue": "unsupported operand type(s) for @: 'list' and 'list'",
     "output_type": "error",
     "traceback": [
      "\u001b[1;31m---------------------------------------------------------------------------\u001b[0m",
      "\u001b[1;31mTypeError\u001b[0m                                 Traceback (most recent call last)",
      "\u001b[1;32m~\\AppData\\Local\\Temp\\ipykernel_12056\\2011162866.py\u001b[0m in \u001b[0;36m<module>\u001b[1;34m\u001b[0m\n\u001b[0;32m      3\u001b[0m \u001b[0mb\u001b[0m \u001b[1;33m=\u001b[0m \u001b[1;33m[\u001b[0m\u001b[1;33m[\u001b[0m\u001b[1;36m3\u001b[0m\u001b[1;33m,\u001b[0m\u001b[1;36m3\u001b[0m\u001b[1;33m]\u001b[0m\u001b[1;33m,\u001b[0m\u001b[1;33m[\u001b[0m\u001b[1;36m3\u001b[0m\u001b[1;33m,\u001b[0m\u001b[1;36m3\u001b[0m\u001b[1;33m]\u001b[0m\u001b[1;33m]\u001b[0m\u001b[1;33m\u001b[0m\u001b[1;33m\u001b[0m\u001b[0m\n\u001b[0;32m      4\u001b[0m \u001b[1;33m\u001b[0m\u001b[0m\n\u001b[1;32m----> 5\u001b[1;33m \u001b[0ma\u001b[0m \u001b[1;33m@\u001b[0m \u001b[0mb\u001b[0m\u001b[1;33m\u001b[0m\u001b[1;33m\u001b[0m\u001b[0m\n\u001b[0m",
      "\u001b[1;31mTypeError\u001b[0m: unsupported operand type(s) for @: 'list' and 'list'"
     ]
    }
   ],
   "source": [
    "import numpy as np\n",
    "a = [[1,4],[3,2],[4,1]] #3행 2열 Matrix\n",
    "b = [[3,3],[3,3]]\n",
    "\n",
    "a @ b"
   ]
  }
 ],
 "metadata": {
  "kernelspec": {
   "display_name": "Python 3 (ipykernel)",
   "language": "python",
   "name": "python3"
  },
  "language_info": {
   "codemirror_mode": {
    "name": "ipython",
    "version": 3
   },
   "file_extension": ".py",
   "mimetype": "text/x-python",
   "name": "python",
   "nbconvert_exporter": "python",
   "pygments_lexer": "ipython3",
   "version": "3.9.13"
  }
 },
 "nbformat": 4,
 "nbformat_minor": 5
}
