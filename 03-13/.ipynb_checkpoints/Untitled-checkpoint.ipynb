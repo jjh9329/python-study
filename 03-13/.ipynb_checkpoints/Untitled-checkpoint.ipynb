{
 "cells": [
  {
   "cell_type": "markdown",
   "id": "d00cc7f6",
   "metadata": {},
   "source": [
    "# 컬렉션 상수\n",
    "* enumerate(컬렉션): 컬렉션의 index와 요소값을 반환해주는 내장함수\n",
    "* zip() : 여러 개의 컬렉션을 하나로 합쳐서 반환해주는 내장함수 (list)\n",
    "\n",
    "\n",
    "* any() :전달인자로 받은 데이터중 하나라도 True 면 True\n",
    "* all() :전달인자로 받은 데이터중 모도 True 면 True"
   ]
  },
  {
   "cell_type": "code",
   "execution_count": 3,
   "id": "aee9e8ce",
   "metadata": {},
   "outputs": [
    {
     "data": {
      "text/plain": [
       "[(0, 'k'), (1, 'o'), (2, 'r'), (3, 'e'), (4, 'a')]"
      ]
     },
     "execution_count": 3,
     "metadata": {},
     "output_type": "execute_result"
    }
   ],
   "source": [
    "test = ['a','b','c']\n",
    "list(enumerate('korea'))"
   ]
  },
  {
   "cell_type": "code",
   "execution_count": 9,
   "id": "3bfe36a5",
   "metadata": {},
   "outputs": [
    {
     "data": {
      "text/plain": [
       "{0: 'addr', 1: 'age', 2: 'name'}"
      ]
     },
     "execution_count": 9,
     "metadata": {},
     "output_type": "execute_result"
    }
   ],
   "source": [
    "test = {\"addr\":\"서울\",\"age\":23,\"name\":\"hong\"}\n",
    "list(enumerate(test)) #키에 대한 목록을 반환"
   ]
  },
  {
   "cell_type": "code",
   "execution_count": 10,
   "id": "1e37f516",
   "metadata": {},
   "outputs": [
    {
     "data": {
      "text/plain": [
       "[(0, 1), (1, 2), (2, 3), (3, 6), (4, 9)]"
      ]
     },
     "execution_count": 10,
     "metadata": {},
     "output_type": "execute_result"
    }
   ],
   "source": [
    "test = {6,1,3,9,2}\n",
    "list(enumerate(test))"
   ]
  },
  {
   "cell_type": "markdown",
   "id": "e70f77f6",
   "metadata": {},
   "source": [
    "# 기타 함수\n",
    "- filter(함수명,컬렉션)\n"
   ]
  },
  {
   "cell_type": "code",
   "execution_count": 19,
   "id": "b8e091c6",
   "metadata": {},
   "outputs": [
    {
     "name": "stdout",
     "output_type": "stream",
     "text": [
      "전달받은 점수 45\n",
      "전달받은 점수 89\n",
      "전달받은 점수 72\n",
      "전달받은 점수 53\n",
      "전달받은 점수 94\n",
      "[45, 53]\n"
     ]
    }
   ],
   "source": [
    "def flunk(data):\n",
    "    print(\"전달받은 점수\",data)\n",
    "    return data < 60\n",
    "\n",
    "score = [45,89,72,53,94]\n",
    "print(list(filter(flunk,score)))"
   ]
  },
  {
   "cell_type": "code",
   "execution_count": 20,
   "id": "0122f9a4",
   "metadata": {},
   "outputs": [
    {
     "name": "stdout",
     "output_type": "stream",
     "text": [
      "[22.5, 44.5, 36.0, 26.5, 47.0]\n"
     ]
    }
   ],
   "source": [
    "def half(s):\n",
    "    return s/2 #수식(값)\n",
    "score = [45,89,72,53,94]\n",
    "print(list(map(half,score)))"
   ]
  },
  {
   "cell_type": "code",
   "execution_count": 44,
   "id": "c0b56a61",
   "metadata": {},
   "outputs": [
    {
     "name": "stdout",
     "output_type": "stream",
     "text": [
      "주급은 327080입니다\n"
     ]
    }
   ],
   "source": [
    "#[문제]일주일 동안 알바를 했을 대 알바비를 계산하시오\n",
    "#    map()\n",
    "#    최처지슥ㅂ : 9620\n",
    "\n",
    "work= [5,7,4,10,8]\n",
    "j=9620\n",
    "def pay(s):\n",
    "    return s*j\n",
    "\n",
    "b= '{}은 {}입니다'.format('주급',sum(list(map(pay,work))))\n",
    "print (b)"
   ]
  },
  {
   "cell_type": "markdown",
   "id": "5f280b9e",
   "metadata": {},
   "source": [
    "## lamda(람다)\n",
    "- 람다는 수학의 람다대수에서 유래됨\n",
    "- 익명함수로서 단일문으로 생성된 함수\n",
    "- 사용방법 lambda 매개면수 : 리턴할 수식\n",
    "\n"
   ]
  },
  {
   "cell_type": "code",
   "execution_count": 51,
   "id": "df42136d",
   "metadata": {},
   "outputs": [
    {
     "data": {
      "text/plain": [
       "<function __main__.<lambda>(hourly)>"
      ]
     },
     "execution_count": 51,
     "metadata": {},
     "output_type": "execute_result"
    }
   ],
   "source": [
    "def salary(hour):\n",
    "    return hourly*hour\n",
    "\n",
    "#람다함수로 변환하면\n",
    "lambda hourly:9620*hour"
   ]
  },
  {
   "cell_type": "code",
   "execution_count": 54,
   "id": "b7aa17de",
   "metadata": {},
   "outputs": [
    {
     "name": "stdout",
     "output_type": "stream",
     "text": [
      "30\n",
      "32\n"
     ]
    }
   ],
   "source": [
    "def add(a,b):\n",
    "    return a+b\n",
    "\n",
    "result = add(10,20)\n",
    "print(result)\n",
    "\n",
    "result2 = lambda a,b : a+b\n",
    "print(result2(10,22))"
   ]
  },
  {
   "cell_type": "code",
   "execution_count": 57,
   "id": "d1175500",
   "metadata": {},
   "outputs": [
    {
     "name": "stdout",
     "output_type": "stream",
     "text": [
      "16\n"
     ]
    },
    {
     "data": {
      "text/plain": [
       "[1, 4, 9, 16, 25]"
      ]
     },
     "execution_count": 57,
     "metadata": {},
     "output_type": "execute_result"
    }
   ],
   "source": [
    "c = {1,2,3,4,5}\n",
    "f = lambda x : x**2\n",
    "print(f(4))\n",
    "list(map(f,c))"
   ]
  },
  {
   "cell_type": "code",
   "execution_count": 61,
   "id": "95346e41",
   "metadata": {},
   "outputs": [
    {
     "name": "stdout",
     "output_type": "stream",
     "text": [
      "9\n"
     ]
    },
    {
     "data": {
      "text/plain": [
       "[2, 4, 6, 8, 10]"
      ]
     },
     "execution_count": 61,
     "metadata": {},
     "output_type": "execute_result"
    }
   ],
   "source": [
    "c1 = {1,2,3,4,5}\n",
    "c2 = {1,2,3,4,5}\n",
    "f1 = lambda x,y: x+y\n",
    "print(f1(4,5))\n",
    "list(map(f1,c1,c2))"
   ]
  },
  {
   "cell_type": "code",
   "execution_count": 68,
   "id": "51777149",
   "metadata": {},
   "outputs": [
    {
     "name": "stdout",
     "output_type": "stream",
     "text": [
      "33\n",
      "45\n",
      "None\n",
      "<function add at 0x00000203D30C0790>\n",
      "2215448938384\n"
     ]
    }
   ],
   "source": [
    "# 값으로서의 함수\n",
    "#대입가능\n",
    "\n",
    "def add(a,b):\n",
    "    print(a + b)\n",
    "    \n",
    "add(11,22) #함수를 호출\n",
    "plus = add(22,23) #반환된 값을 plus에 치환\n",
    "print(plus)\n",
    "\n",
    "plus = add\n"
   ]
  },
  {
   "cell_type": "code",
   "execution_count": 72,
   "id": "b98d87bf",
   "metadata": {},
   "outputs": [
    {
     "name": "stdout",
     "output_type": "stream",
     "text": [
      "8\n",
      "-2\n"
     ]
    }
   ],
   "source": [
    "#F: 함수명,a,b:값\n",
    "def calc(f,a,b):\n",
    "    f(a,b)\n",
    "    \n",
    "def add(a,b):\n",
    "    print(a+b)\n",
    "    \n",
    "def minus(a,b):\n",
    "    print(a-b)\n",
    "    \n",
    "def multiply(a,b):\n",
    "    print(a*b)\n",
    "    \n",
    "calc(add,3,5)\n",
    "calc(minus,3,5)"
   ]
  },
  {
   "cell_type": "code",
   "execution_count": 81,
   "id": "325e4b00",
   "metadata": {},
   "outputs": [
    {
     "name": "stdout",
     "output_type": "stream",
     "text": [
      "1 (2, 3)\n",
      "1 ()\n"
     ]
    }
   ],
   "source": [
    "#데이터를 튜플로 받을때\n",
    "#k는 무조건 인자를 받아야 되고 *부분부터 안받아도 된다\n",
    "# 함수의 배개변수에 *을 붙이려면 맨뒤에 붙여야한다\n",
    "def temp(k,*a):\n",
    "    print(k,a)\n",
    "    \n",
    "temp(1,2,3) # 하나의 덩어리로 받는다\n",
    "temp(1)\n",
    "#데이터를 딕셔너리로 받을때\n",
    "def temp2(**kwargs):\n",
    "    pass"
   ]
  },
  {
   "cell_type": "code",
   "execution_count": 203,
   "id": "f6d05e05",
   "metadata": {},
   "outputs": [
    {
     "name": "stdout",
     "output_type": "stream",
     "text": [
      "('a', '3')\n",
      "{'na': '3'}\n"
     ]
    }
   ],
   "source": [
    "def temp2(*args,**kwargs) :\n",
    "    print (args)\n",
    "    print (kwargs)\n",
    "    \n",
    "temp2('a','3',na='3')"
   ]
  },
  {
   "cell_type": "code",
   "execution_count": 86,
   "id": "414fa0e8",
   "metadata": {},
   "outputs": [
    {
     "data": {
      "text/plain": [
       "15"
      ]
     },
     "execution_count": 86,
     "metadata": {},
     "output_type": "execute_result"
    }
   ],
   "source": [
    "sum([1,2,3,4,5])"
   ]
  },
  {
   "cell_type": "code",
   "execution_count": 94,
   "id": "1a15e110",
   "metadata": {},
   "outputs": [
    {
     "name": "stdout",
     "output_type": "stream",
     "text": [
      "(1, 2, 3, 4)\n",
      "haha\n",
      "sasa\n"
     ]
    }
   ],
   "source": [
    "def sample(*args,plus=\"sum\",check=False):\n",
    "    print(args)\n",
    "    print(plus)\n",
    "    print(check)\n",
    "    \n",
    "\n",
    "sample(1,2,3,4,plus = 'haha',check='sasa') #호출 **args로 받거나 keyr가 있을경우 =\"\"로 보낸다"
   ]
  },
  {
   "cell_type": "code",
   "execution_count": 103,
   "id": "cd164471",
   "metadata": {},
   "outputs": [
    {
     "ename": "TypeError",
     "evalue": "Singleton array array(True) cannot be considered a valid collection.",
     "output_type": "error",
     "traceback": [
      "\u001b[1;31m---------------------------------------------------------------------------\u001b[0m",
      "\u001b[1;31mTypeError\u001b[0m                                 Traceback (most recent call last)",
      "\u001b[1;32m~\\AppData\\Local\\Temp\\ipykernel_21544\\721197964.py\u001b[0m in \u001b[0;36m<module>\u001b[1;34m\u001b[0m\n\u001b[0;32m      1\u001b[0m \u001b[1;32mfrom\u001b[0m \u001b[0msklearn\u001b[0m\u001b[1;33m.\u001b[0m\u001b[0mmodel_selection\u001b[0m \u001b[1;32mimport\u001b[0m \u001b[0mtrain_test_split\u001b[0m\u001b[1;33m\u001b[0m\u001b[1;33m\u001b[0m\u001b[0m\n\u001b[0;32m      2\u001b[0m \u001b[1;33m\u001b[0m\u001b[0m\n\u001b[1;32m----> 3\u001b[1;33m \u001b[0mtrain_test_split\u001b[0m\u001b[1;33m(\u001b[0m\u001b[1;33m[\u001b[0m\u001b[1;36m1\u001b[0m\u001b[1;33m,\u001b[0m\u001b[1;36m2\u001b[0m\u001b[1;33m,\u001b[0m\u001b[1;36m3\u001b[0m\u001b[1;33m,\u001b[0m\u001b[1;36m4\u001b[0m\u001b[1;33m]\u001b[0m\u001b[1;33m,\u001b[0m\u001b[0mrandom_state\u001b[0m\u001b[1;33m=\u001b[0m\u001b[1;36m2\u001b[0m\u001b[1;33m,\u001b[0m\u001b[0mstratify\u001b[0m\u001b[1;33m=\u001b[0m\u001b[1;32mTrue\u001b[0m\u001b[1;33m)\u001b[0m\u001b[1;33m\u001b[0m\u001b[1;33m\u001b[0m\u001b[0m\n\u001b[0m",
      "\u001b[1;32m~\\anaconda3\\lib\\site-packages\\sklearn\\model_selection\\_split.py\u001b[0m in \u001b[0;36mtrain_test_split\u001b[1;34m(test_size, train_size, random_state, shuffle, stratify, *arrays)\u001b[0m\n\u001b[0;32m   2439\u001b[0m         \u001b[0mcv\u001b[0m \u001b[1;33m=\u001b[0m \u001b[0mCVClass\u001b[0m\u001b[1;33m(\u001b[0m\u001b[0mtest_size\u001b[0m\u001b[1;33m=\u001b[0m\u001b[0mn_test\u001b[0m\u001b[1;33m,\u001b[0m \u001b[0mtrain_size\u001b[0m\u001b[1;33m=\u001b[0m\u001b[0mn_train\u001b[0m\u001b[1;33m,\u001b[0m \u001b[0mrandom_state\u001b[0m\u001b[1;33m=\u001b[0m\u001b[0mrandom_state\u001b[0m\u001b[1;33m)\u001b[0m\u001b[1;33m\u001b[0m\u001b[1;33m\u001b[0m\u001b[0m\n\u001b[0;32m   2440\u001b[0m \u001b[1;33m\u001b[0m\u001b[0m\n\u001b[1;32m-> 2441\u001b[1;33m         \u001b[0mtrain\u001b[0m\u001b[1;33m,\u001b[0m \u001b[0mtest\u001b[0m \u001b[1;33m=\u001b[0m \u001b[0mnext\u001b[0m\u001b[1;33m(\u001b[0m\u001b[0mcv\u001b[0m\u001b[1;33m.\u001b[0m\u001b[0msplit\u001b[0m\u001b[1;33m(\u001b[0m\u001b[0mX\u001b[0m\u001b[1;33m=\u001b[0m\u001b[0marrays\u001b[0m\u001b[1;33m[\u001b[0m\u001b[1;36m0\u001b[0m\u001b[1;33m]\u001b[0m\u001b[1;33m,\u001b[0m \u001b[0my\u001b[0m\u001b[1;33m=\u001b[0m\u001b[0mstratify\u001b[0m\u001b[1;33m)\u001b[0m\u001b[1;33m)\u001b[0m\u001b[1;33m\u001b[0m\u001b[1;33m\u001b[0m\u001b[0m\n\u001b[0m\u001b[0;32m   2442\u001b[0m \u001b[1;33m\u001b[0m\u001b[0m\n\u001b[0;32m   2443\u001b[0m     return list(\n",
      "\u001b[1;32m~\\anaconda3\\lib\\site-packages\\sklearn\\model_selection\\_split.py\u001b[0m in \u001b[0;36msplit\u001b[1;34m(self, X, y, groups)\u001b[0m\n\u001b[0;32m   2020\u001b[0m         \u001b[0mto\u001b[0m \u001b[0man\u001b[0m \u001b[0minteger\u001b[0m\u001b[1;33m.\u001b[0m\u001b[1;33m\u001b[0m\u001b[1;33m\u001b[0m\u001b[0m\n\u001b[0;32m   2021\u001b[0m         \"\"\"\n\u001b[1;32m-> 2022\u001b[1;33m         \u001b[0my\u001b[0m \u001b[1;33m=\u001b[0m \u001b[0mcheck_array\u001b[0m\u001b[1;33m(\u001b[0m\u001b[0my\u001b[0m\u001b[1;33m,\u001b[0m \u001b[0mensure_2d\u001b[0m\u001b[1;33m=\u001b[0m\u001b[1;32mFalse\u001b[0m\u001b[1;33m,\u001b[0m \u001b[0mdtype\u001b[0m\u001b[1;33m=\u001b[0m\u001b[1;32mNone\u001b[0m\u001b[1;33m)\u001b[0m\u001b[1;33m\u001b[0m\u001b[1;33m\u001b[0m\u001b[0m\n\u001b[0m\u001b[0;32m   2023\u001b[0m         \u001b[1;32mreturn\u001b[0m \u001b[0msuper\u001b[0m\u001b[1;33m(\u001b[0m\u001b[1;33m)\u001b[0m\u001b[1;33m.\u001b[0m\u001b[0msplit\u001b[0m\u001b[1;33m(\u001b[0m\u001b[0mX\u001b[0m\u001b[1;33m,\u001b[0m \u001b[0my\u001b[0m\u001b[1;33m,\u001b[0m \u001b[0mgroups\u001b[0m\u001b[1;33m)\u001b[0m\u001b[1;33m\u001b[0m\u001b[1;33m\u001b[0m\u001b[0m\n\u001b[0;32m   2024\u001b[0m \u001b[1;33m\u001b[0m\u001b[0m\n",
      "\u001b[1;32m~\\anaconda3\\lib\\site-packages\\sklearn\\utils\\validation.py\u001b[0m in \u001b[0;36mcheck_array\u001b[1;34m(array, accept_sparse, accept_large_sparse, dtype, order, copy, force_all_finite, ensure_2d, allow_nd, ensure_min_samples, ensure_min_features, estimator)\u001b[0m\n\u001b[0;32m    801\u001b[0m \u001b[1;33m\u001b[0m\u001b[0m\n\u001b[0;32m    802\u001b[0m     \u001b[1;32mif\u001b[0m \u001b[0mensure_min_samples\u001b[0m \u001b[1;33m>\u001b[0m \u001b[1;36m0\u001b[0m\u001b[1;33m:\u001b[0m\u001b[1;33m\u001b[0m\u001b[1;33m\u001b[0m\u001b[0m\n\u001b[1;32m--> 803\u001b[1;33m         \u001b[0mn_samples\u001b[0m \u001b[1;33m=\u001b[0m \u001b[0m_num_samples\u001b[0m\u001b[1;33m(\u001b[0m\u001b[0marray\u001b[0m\u001b[1;33m)\u001b[0m\u001b[1;33m\u001b[0m\u001b[1;33m\u001b[0m\u001b[0m\n\u001b[0m\u001b[0;32m    804\u001b[0m         \u001b[1;32mif\u001b[0m \u001b[0mn_samples\u001b[0m \u001b[1;33m<\u001b[0m \u001b[0mensure_min_samples\u001b[0m\u001b[1;33m:\u001b[0m\u001b[1;33m\u001b[0m\u001b[1;33m\u001b[0m\u001b[0m\n\u001b[0;32m    805\u001b[0m             raise ValueError(\n",
      "\u001b[1;32m~\\anaconda3\\lib\\site-packages\\sklearn\\utils\\validation.py\u001b[0m in \u001b[0;36m_num_samples\u001b[1;34m(x)\u001b[0m\n\u001b[0;32m    267\u001b[0m     \u001b[1;32mif\u001b[0m \u001b[0mhasattr\u001b[0m\u001b[1;33m(\u001b[0m\u001b[0mx\u001b[0m\u001b[1;33m,\u001b[0m \u001b[1;34m\"shape\"\u001b[0m\u001b[1;33m)\u001b[0m \u001b[1;32mand\u001b[0m \u001b[0mx\u001b[0m\u001b[1;33m.\u001b[0m\u001b[0mshape\u001b[0m \u001b[1;32mis\u001b[0m \u001b[1;32mnot\u001b[0m \u001b[1;32mNone\u001b[0m\u001b[1;33m:\u001b[0m\u001b[1;33m\u001b[0m\u001b[1;33m\u001b[0m\u001b[0m\n\u001b[0;32m    268\u001b[0m         \u001b[1;32mif\u001b[0m \u001b[0mlen\u001b[0m\u001b[1;33m(\u001b[0m\u001b[0mx\u001b[0m\u001b[1;33m.\u001b[0m\u001b[0mshape\u001b[0m\u001b[1;33m)\u001b[0m \u001b[1;33m==\u001b[0m \u001b[1;36m0\u001b[0m\u001b[1;33m:\u001b[0m\u001b[1;33m\u001b[0m\u001b[1;33m\u001b[0m\u001b[0m\n\u001b[1;32m--> 269\u001b[1;33m             raise TypeError(\n\u001b[0m\u001b[0;32m    270\u001b[0m                 \u001b[1;34m\"Singleton array %r cannot be considered a valid collection.\"\u001b[0m \u001b[1;33m%\u001b[0m \u001b[0mx\u001b[0m\u001b[1;33m\u001b[0m\u001b[1;33m\u001b[0m\u001b[0m\n\u001b[0;32m    271\u001b[0m             )\n",
      "\u001b[1;31mTypeError\u001b[0m: Singleton array array(True) cannot be considered a valid collection."
     ]
    }
   ],
   "source": [
    "from sklearn.model_selection import train_test_split\n",
    "\n",
    "train_test_split([1,2,3,4],random_state=2,stratify=True)"
   ]
  },
  {
   "cell_type": "code",
   "execution_count": 119,
   "id": "61d05f82",
   "metadata": {},
   "outputs": [
    {
     "name": "stdout",
     "output_type": "stream",
     "text": [
      "[['a', 'c'], 1, 2]\n",
      "[['a', 'c'], 1, 2]\n",
      "[['a', 'c'], 1, 2]\n",
      "[['a', 'd'], 1, 2]\n"
     ]
    }
   ],
   "source": [
    "import copy\n",
    "list0= ['a','b']\n",
    "\n",
    "list1 = [list0,1,2]\n",
    "\n",
    "list2 = list1.copy() # 얕은복사(원본이 복사되는것이 아니라, 참조값이 복사,서로영향을 주는 사본)\n",
    "list2[0][1] ='c'\n",
    "print(list1)\n",
    "print(list2)\n",
    "\n",
    "list3 = copy.deepcopy(list2) #깊은복사(완전히 독립된 사본)\n",
    "list3[0][1] ='d'\n",
    "print(list2)\n",
    "print(list3)\n"
   ]
  },
  {
   "cell_type": "code",
   "execution_count": 121,
   "id": "a0ca7294",
   "metadata": {},
   "outputs": [
    {
     "name": "stdout",
     "output_type": "stream",
     "text": [
      "원본  [['a', 'x'], 1, 2]\n",
      "복사본 [['a', 'x'], 1, 100]\n"
     ]
    }
   ],
   "source": [
    "list1 = ['a','b']\n",
    "list2 = [list1,1,2]\n",
    "\n",
    "temp = list2.copy() # 딥카피가 아니다 2차원이 아니라서\n",
    "temp[0][1] ='x'\n",
    "temp[2]=100\n",
    "\n",
    "print('원본 ',list2)\n",
    "print('복사본',temp)"
   ]
  },
  {
   "cell_type": "code",
   "execution_count": 122,
   "id": "bf8a4ccc",
   "metadata": {},
   "outputs": [
    {
     "name": "stdout",
     "output_type": "stream",
     "text": [
      "원본  [['a', 'b'], 1, 2]\n",
      "복사본 [['a', 'x'], 1, 125]\n"
     ]
    }
   ],
   "source": [
    "import copy\n",
    "list1 = ['a','b']\n",
    "list2 = [list1,1,2]\n",
    "\n",
    "temp =copy.deepcopy(list2) # 딥카피가 아니다 2차원이 아니라서\n",
    "temp[0][1] ='x'\n",
    "temp[2]=125\n",
    "\n",
    "print('원본 ',list2)\n",
    "print('복사본',temp)"
   ]
  },
  {
   "cell_type": "code",
   "execution_count": 169,
   "id": "7d80bc98",
   "metadata": {},
   "outputs": [
    {
     "name": "stdout",
     "output_type": "stream",
     "text": [
      "[1, 2, 3, 4, 5, 6, 7, 8, 9, 10]\n",
      "[1, 4, 9, 16, 25, 36, 49, 64, 81, 100]\n",
      "[2, 6, 12, 20, 30, 42, 56, 72, 90, 110]\n",
      "[6, 12, 30, 42, 72, 90]\n"
     ]
    }
   ],
   "source": [
    "#[문제]\n",
    "a = list(range(1,11))\n",
    "b = lambda x : x**2\n",
    "\n",
    "\n",
    "b =list(map(b,a))\n",
    "print(a)\n",
    "print(b)\n",
    "\n",
    "c=[x+y for x,y in zip(a, b)]\n",
    "print(c)\n",
    "d=[]\n",
    "for i in c :\n",
    "    if i % 6 == 0 :\n",
    "        d.append(i)\n",
    "print(d)\n"
   ]
  },
  {
   "cell_type": "code",
   "execution_count": 189,
   "id": "d06303be",
   "metadata": {},
   "outputs": [
    {
     "name": "stdout",
     "output_type": "stream",
     "text": [
      "[4000, 2400, 1600, 3200, 6400]\n"
     ]
    }
   ],
   "source": [
    "import math\n",
    "price=[5000,3000,2000,4000,8000]\n",
    "\n",
    "f = lambda x : x*80/100\n",
    "h = lambda y : int(y)\n",
    "g = list(map(h,list(map(f,price))))\n",
    "\n",
    "print(g)"
   ]
  },
  {
   "cell_type": "code",
   "execution_count": 187,
   "id": "10c3b206",
   "metadata": {},
   "outputs": [
    {
     "name": "stdout",
     "output_type": "stream",
     "text": [
      "[2000, 3000, 4000, 1000]\n",
      "[1600.0, 2400.0, 3200.0, 800.0]\n"
     ]
    }
   ],
   "source": [
    "a = lambda x : x - (x * (20 / 100))\n",
    "\n",
    "price = [2000,3000,4000,1000]\n",
    "\n",
    "c= list(map(a,price))\n",
    "print(price)\n",
    "print(c)"
   ]
  },
  {
   "cell_type": "code",
   "execution_count": null,
   "id": "309d96e1",
   "metadata": {},
   "outputs": [],
   "source": []
  },
  {
   "cell_type": "code",
   "execution_count": null,
   "id": "4557762b",
   "metadata": {},
   "outputs": [],
   "source": []
  },
  {
   "cell_type": "code",
   "execution_count": null,
   "id": "8d6c0530",
   "metadata": {},
   "outputs": [],
   "source": []
  }
 ],
 "metadata": {
  "kernelspec": {
   "display_name": "Python 3 (ipykernel)",
   "language": "python",
   "name": "python3"
  },
  "language_info": {
   "codemirror_mode": {
    "name": "ipython",
    "version": 3
   },
   "file_extension": ".py",
   "mimetype": "text/x-python",
   "name": "python",
   "nbconvert_exporter": "python",
   "pygments_lexer": "ipython3",
   "version": "3.9.13"
  }
 },
 "nbformat": 4,
 "nbformat_minor": 5
}
