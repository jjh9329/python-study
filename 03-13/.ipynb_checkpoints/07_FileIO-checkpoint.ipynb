{
 "cells": [
  {
   "cell_type": "code",
   "execution_count": 16,
   "id": "76ba0dd5",
   "metadata": {},
   "outputs": [
    {
     "name": "stdout",
     "output_type": "stream",
     "text": [
      "저장 완료!\n"
     ]
    }
   ],
   "source": [
    "data = \"\"\"나리나리 개나리\n",
    "입에 따다 물고요\n",
    "병아리떼 뿅뿅뿅\n",
    "봄나들이 갑니다.\n",
    "\"\"\"\n",
    "\n",
    "f = open('song1.txt','wt',encoding = 'utf-8')\n",
    "f.write(data)\n",
    "f.close()\n",
    "print('저장 완료!')"
   ]
  },
  {
   "cell_type": "code",
   "execution_count": null,
   "id": "a9ab3a58",
   "metadata": {},
   "outputs": [],
   "source": []
  },
  {
   "cell_type": "code",
   "execution_count": 17,
   "id": "87c464c5",
   "metadata": {},
   "outputs": [
    {
     "name": "stdout",
     "output_type": "stream",
     "text": [
      "나리나리 개나리\n",
      "입에 따다 물고요\n",
      "병아리떼 뿅뿅뿅\n",
      "봄나들이 갑니다.\n",
      "\n"
     ]
    }
   ],
   "source": [
    "f = open('song1.txt','rt',encoding = 'utf-8')\n",
    "txt = f.read()\n",
    "print(txt)"
   ]
  },
  {
   "cell_type": "code",
   "execution_count": 12,
   "id": "66de30fa",
   "metadata": {},
   "outputs": [
    {
     "name": "stdout",
     "output_type": "stream",
     "text": [
      "파일이 존재하지 않습니다\n"
     ]
    }
   ],
   "source": [
    "#read mode로 파일을 오픈할 때에는 반드시 해당 파일이 존재\n",
    "\n",
    "try : \n",
    "    f = open('song2.txt','rt',encoding = 'utf-8')\n",
    "    txt = f.read()\n",
    "    print(txt)\n",
    "except FileNotFoundError:\n",
    "    print('파일이 존재하지 않습니다')\n",
    "finally :         #오류가 발생을 하든, 하지않든 무조건 처리해야하는 문장\n",
    "    f.close()\n"
   ]
  },
  {
   "cell_type": "code",
   "execution_count": 18,
   "id": "70fbf4bb",
   "metadata": {},
   "outputs": [
    {
     "name": "stdout",
     "output_type": "stream",
     "text": [
      "['나리나리 개나리\\n', '입에 따다 물고요\\n', '병아리떼 뿅뿅뿅\\n', '봄나들이 갑니다.\\n']\n"
     ]
    }
   ],
   "source": [
    "#readlines()\n",
    "f = open('song1.txt','rt',encoding = 'utf-8')\n",
    "txt = f.readlines() #줄단위로 list로 저장\n",
    "print(txt)"
   ]
  },
  {
   "cell_type": "code",
   "execution_count": 19,
   "id": "4a1b211b",
   "metadata": {},
   "outputs": [
    {
     "name": "stdout",
     "output_type": "stream",
     "text": [
      "나리나리 개나리\n",
      "\n"
     ]
    }
   ],
   "source": [
    "#readline()\n",
    "f = open('song1.txt','rt',encoding = 'utf-8')\n",
    "txt = f.readline() #한 줄만 읽음\n",
    "print(txt)"
   ]
  },
  {
   "cell_type": "code",
   "execution_count": 23,
   "id": "053f9b43",
   "metadata": {},
   "outputs": [
    {
     "name": "stdout",
     "output_type": "stream",
     "text": [
      "나리나리 개나리\n"
     ]
    }
   ],
   "source": [
    "#readline()\n",
    "f = open('song1.txt','rt',encoding = 'utf-8')\n",
    "\n",
    "for txt in f.readline():\n",
    "    print(txt, end='')\n",
    "def sample(*args,plus=\"sum\",check=False):\n",
    "    print(args)\n",
    "    print(plus)\n",
    "    print(check)\n",
    "    \n",
    "\n",
    "sample(1,2,3,4,plus = 'haha',check='sasa')"
   ]
  },
  {
   "cell_type": "code",
   "execution_count": 87,
   "id": "dff416b0",
   "metadata": {},
   "outputs": [
    {
     "name": "stdout",
     "output_type": "stream",
     "text": [
      "번호: 1 이름 : 홍길동 korea : 98 math : 100 english : 89 total:287 avg:96\n",
      "번호: 2 이름 : 임꺽정 korea : 88 math : 78 english : 79 total:245 avg:82\n",
      "번호: 3 이름 : 손오공 korea : 78 math : 67 english : 66 total:211 avg:70\n",
      "번호: 4 이름 : 노기훈 korea : 99 math : 89 english : 70 total:258 avg:86\n",
      "번호: 5 이름 : 김동현 korea : 89 math : 98 english : 99 total:286 avg:95\n"
     ]
    }
   ],
   "source": [
    "#readline()\n",
    "f = open('score.txt','rt',encoding = 'utf-8')\n",
    "lines =f.readlines()\n",
    "f.close\n",
    "\n",
    "for line in lines[1:]:\n",
    "    number,name,korea,math,english = line.split()\n",
    "    korea,english,math = int(korea),int(english),int(math)\n",
    "    total=korea+english+math\n",
    "    avg=(korea+english+math)/3\n",
    "    txt = '번호: {0} 이름 : {1} korea : {2} math : {3} english : {4} total:{5} avg:{6}'.format(number,name,korea,math,english,total,round(avg))\n",
    "    print(txt)\n",
    "        "
   ]
  },
  {
   "cell_type": "code",
   "execution_count": null,
   "id": "d9a67a4b",
   "metadata": {},
   "outputs": [],
   "source": [
    "or line in lines[1:] :\n",
    "    num, name, kor, eng, math = line.split()\n",
    "    kor, eng, math = int(kor), int(eng), int(math)\n",
    "    total = kor + eng + math\n",
    "    avg = total / 3\n",
    "    print(num,name,kor,eng,math,total,round(avg,2))"
   ]
  },
  {
   "cell_type": "code",
   "execution_count": null,
   "id": "b539701b",
   "metadata": {},
   "outputs": [],
   "source": [
    "def total(korea,math,english):\n",
    "    korea + math+english\n",
    "    \n",
    "def avg(korea,math,english) :\n",
    "    (korea+math,english)/3 #람다형식으로\n",
    "\n"
   ]
  },
  {
   "cell_type": "code",
   "execution_count": 126,
   "id": "9b3ec9f3",
   "metadata": {},
   "outputs": [
    {
     "name": "stdout",
     "output_type": "stream",
     "text": [
      "x[1]: [1]\n",
      "홀수 1\n",
      "<class 'int'>\n",
      "x[0] : [2]\n",
      "짝수 1\n",
      "x[1]: [1, 3]\n",
      "홀수 2\n",
      "<class 'int'>\n",
      "x[0] : [2, 4]\n",
      "짝수 2\n",
      "x[1]: [1, 3, 5]\n",
      "홀수 3\n",
      "<class 'int'>\n",
      "2\n",
      "3\n"
     ]
    },
    {
     "data": {
      "text/plain": [
       "[2, 3]"
      ]
     },
     "execution_count": 126,
     "metadata": {},
     "output_type": "execute_result"
    }
   ],
   "source": [
    "\n",
    "def solution(num_list):\n",
    "#     odd=0\n",
    "#     Even=0\n",
    "    result1 = []\n",
    "    result2 = []\n",
    "    answer = []\n",
    "    for x in num_list:\n",
    "        if x%2 ==0 :\n",
    "            result1.append(x)\n",
    "            print(\"x[0] :\",result1)\n",
    "            Even=len(result1)\n",
    "            print(\"짝수\",Even)\n",
    "            \n",
    "        else :\n",
    "            result2.append(x)\n",
    "            print(\"x[1]:\",result2)\n",
    "            odd=len(result2)\n",
    "            print(\"홀수\",odd)\n",
    "            print(type(odd))\n",
    "    answer.append(Even)\n",
    "    print(answer[0])\n",
    "    answer.append(odd)\n",
    "    print(answer[1])\n",
    "    \n",
    "    return answer\n",
    "solution([1,2,3,4,5])"
   ]
  },
  {
   "cell_type": "code",
   "execution_count": 4,
   "id": "0c9483ef",
   "metadata": {},
   "outputs": [
    {
     "data": {
      "text/plain": [
       "'class_1.txt'"
      ]
     },
     "execution_count": 4,
     "metadata": {},
     "output_type": "execute_result"
    }
   ],
   "source": [
    "import glob\n",
    "all_class = glob.glob(\"class*.txt\")\n",
    "\n",
    "all_class[0]"
   ]
  },
  {
   "cell_type": "code",
   "execution_count": null,
   "id": "df9a80be",
   "metadata": {},
   "outputs": [],
   "source": [
    "import glob\n",
    "all_class = glob.glob(\"class*.txt\")\n",
    "\n",
    "def process(score):   # score : list\n",
    "    num  = score[0]\n",
    "    name = score[1]\n",
    "   \n",
    "    s = [int(data) for data in score[2:]]\n",
    "    total = sum(s)\n",
    "    avg = total / len(s)\n",
    "    output = '%s %s %3d %3d %3d %4d  %.2f' % (num, name, s[0], s[1], s[2], total, avg)\n",
    "    print(output)\n",
    "\n",
    "for i in  range(len(all_class)):\n",
    "    print(\"=====[%d 반]=======\" % (i+1))\n",
    "    f = open(all_class[i],'rt',encoding='utf-8')\n",
    "    score = f.readlines()\n",
    "    for item in score[1:]:\n",
    "        process(item.split())\n",
    "    \n",
    "f.close"
   ]
  },
  {
   "cell_type": "code",
   "execution_count": null,
   "id": "cbae4149",
   "metadata": {},
   "outputs": [],
   "source": [
    "# 'Test_Python\\Day_0313' #내부의 목록을 출력하시오\n",
    "import os\n",
    "\n",
    "files = sorted(os.listdir('./'))\n",
    "i = 1\n",
    "for file in files:\n",
    "    print(i, file)\n",
    "    i += 1"
   ]
  },
  {
   "cell_type": "code",
   "execution_count": null,
   "id": "bd0a1c1a",
   "metadata": {},
   "outputs": [],
   "source": [
    "#with 명령문을 이용하여 자동으로 close()기능\n",
    "\n",
    "def process(score):   # score : list\n",
    "    num  = score[0]\n",
    "    name = score[1]\n",
    "   \n",
    "    s = [int(data) for data in score[2:]]\n",
    "    total = sum(s)\n",
    "    avg = total / len(s)\n",
    "    output = '%s %s %3d %3d %3d %4d  %.2f' % (num, name, s[0], s[1], s[2], total, avg)\n",
    "    print(output)\n",
    "\n",
    "with open('score.txt', 'rt', encoding='UTF-8') as f:   ##권장 코드\n",
    "    score = f.readlines()\n",
    "    for item in score[1:] :   \n",
    "        process(item.split())\n",
    "   "
   ]
  },
  {
   "cell_type": "code",
   "execution_count": null,
   "id": "cd78c59a",
   "metadata": {},
   "outputs": [],
   "source": []
  },
  {
   "cell_type": "code",
   "execution_count": null,
   "id": "0602a0f6",
   "metadata": {},
   "outputs": [],
   "source": []
  }
 ],
 "metadata": {
  "kernelspec": {
   "display_name": "Python 3 (ipykernel)",
   "language": "python",
   "name": "python3"
  },
  "language_info": {
   "codemirror_mode": {
    "name": "ipython",
    "version": 3
   },
   "file_extension": ".py",
   "mimetype": "text/x-python",
   "name": "python",
   "nbconvert_exporter": "python",
   "pygments_lexer": "ipython3",
   "version": "3.9.13"
  }
 },
 "nbformat": 4,
 "nbformat_minor": 5
}
